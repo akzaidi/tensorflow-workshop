{
 "cells": [
  {
   "cell_type": "markdown",
   "metadata": {
    "colab_type": "text",
    "id": "4huUGkHaATV4"
   },
   "source": [
    "Pre-Download Data\n",
    "===\n",
    "\n",
    "To save you the hassle of repeated downloads, it's easier so save the files in a shared folder.\n",
    "\n",
    "To run all cells, select **Cell** > **Run All**. You can also run cells one at a time, select **Cell** > **Run cells** in the menu above."
   ]
  },
  {
   "cell_type": "code",
   "execution_count": 1,
   "metadata": {
    "colab": {
     "autoexec": {
      "startup": false,
      "wait_interval": 0
     },
     "output_extras": [
      {}
     ]
    },
    "colab_type": "code",
    "id": "Pq6AyJUJATV7",
    "outputId": "27d1c78f-3957-4211-a011-94984c541616"
   },
   "outputs": [
    {
     "name": "stdout",
     "output_type": "stream",
     "text": [
      "Class 0: frog\n",
      "Class 1: horse\n",
      "Class 2: lion\n",
      "Class 3: monkey\n",
      "Class 4: octopus\n",
      "Class 5: owl\n",
      "Class 6: rhinoceros\n",
      "Class 7: snail\n",
      "Class 8: tiger\n",
      "Class 9: zebra\n"
     ]
    }
   ],
   "source": [
    "from __future__ import absolute_import\n",
    "from __future__ import division\n",
    "from __future__ import print_function\n",
    "\n",
    "import numpy as np\n",
    "import tensorflow as tf\n",
    "\n",
    "# Some of these are hard to distinguish.\n",
    "# Check https://quickdraw.withgoogle.com/data for examples\n",
    "zoo = ['frog', 'horse', 'lion', 'monkey', 'octopus', 'owl', 'rhinoceros', \n",
    "       'snail', 'tiger', 'zebra']\n",
    "\n",
    "# Mapping between category names and ids\n",
    "animal2id = dict((c,i) for i,c in enumerate(zoo))\n",
    "id2animal = dict((i,c) for i,c in enumerate(zoo))\n",
    "for i, animal in id2animal.items():\n",
    "    print(\"Class {}: {}\".format(i, animal))"
   ]
  },
  {
   "cell_type": "code",
   "execution_count": 2,
   "metadata": {
    "colab": {
     "autoexec": {
      "startup": false,
      "wait_interval": 0
     },
     "output_extras": [
      {}
     ]
    },
    "colab_type": "code",
    "id": "1VQp7YCUATWH",
    "outputId": "c7236449-681f-419a-91eb-714e8f5fa719"
   },
   "outputs": [
    {
     "name": "stdout",
     "output_type": "stream",
     "text": [
      "Using previously downloaded file: data/frog.npy\n",
      "Loaded 1000 frog examples of dimension 784 from data/frog.npy\n",
      "Using previously downloaded file: data/horse.npy\n",
      "Loaded 1000 horse examples of dimension 784 from data/horse.npy\n",
      "Using previously downloaded file: data/lion.npy\n",
      "Loaded 1000 lion examples of dimension 784 from data/lion.npy\n",
      "Using previously downloaded file: data/monkey.npy\n",
      "Loaded 1000 monkey examples of dimension 784 from data/monkey.npy\n",
      "Using previously downloaded file: data/octopus.npy\n",
      "Loaded 1000 octopus examples of dimension 784 from data/octopus.npy\n",
      "Using previously downloaded file: data/owl.npy\n",
      "Loaded 1000 owl examples of dimension 784 from data/owl.npy\n",
      "Using previously downloaded file: data/rhinoceros.npy\n",
      "Loaded 1000 rhinoceros examples of dimension 784 from data/rhinoceros.npy\n",
      "Using previously downloaded file: data/snail.npy\n",
      "Loaded 1000 snail examples of dimension 784 from data/snail.npy\n",
      "Using previously downloaded file: data/tiger.npy\n",
      "Loaded 1000 tiger examples of dimension 784 from data/tiger.npy\n",
      "Using previously downloaded file: data/zebra.npy\n",
      "Loaded 1000 zebra examples of dimension 784 from data/zebra.npy\n",
      "Final shape of data: (10000, 784)\n"
     ]
    }
   ],
   "source": [
    "from six.moves.urllib.request import urlretrieve\n",
    "import os\n",
    "\n",
    "DATA_DIR = 'data/'\n",
    "\n",
    "def maybe_download(url, data_dir):\n",
    "    filename = url.split('/')[-1]\n",
    "    file_path = os.path.join(data_dir, filename)\n",
    "\n",
    "    # Check if the file already exists.\n",
    "    if not os.path.exists(file_path):\n",
    "        if not os.path.exists(data_dir):\n",
    "            os.makedirs(data_dir)\n",
    "\n",
    "        print(\"Downloading {} to {}\".format(url, file_path))\n",
    "        file_path, _ = urlretrieve(url=url, filename=file_path)\n",
    "    else:\n",
    "        print(\"Using previously downloaded file: {}\".format(file_path))\n",
    "    return file_path\n",
    "\n",
    "def load_data(file_path, max_examples=2000, example_name=''):\n",
    "    d = np.load(open(file_path, 'rb'))\n",
    "    d = d[:max_examples,:] # limit number of instances to save memory\n",
    "    print(\"Loaded {} {} examples of dimension {} from {}\".format(\n",
    "            d.shape[0], example_name, d.shape[1], file_path))\n",
    "    return d\n",
    "\n",
    "data= []\n",
    "labels =[]\n",
    "\n",
    "for animal in zoo:\n",
    "    url = \"https://storage.googleapis.com/quickdraw_dataset/full/numpy_bitmap/{}.npy\".format(animal)\n",
    "    file_path = maybe_download(url, DATA_DIR)\n",
    "    data.append(load_data(file_path, max_examples = 1000, example_name = animal))\n",
    "    labels.extend([animal2id[animal]]*data[-1].shape[0])\n",
    "\n",
    "data = np.concatenate(data, axis=0)\n",
    "labels = np.array(labels)\n",
    "print(\"Final shape of data: {}\".format(data.shape))"
   ]
  },
  {
   "cell_type": "markdown",
   "metadata": {
    "colab_type": "text",
    "id": "TrTzMTUzATWO"
   },
   "source": [
    "The data is fun to look at. Compared to MNIST the classes seem much harder to distinguish"
   ]
  },
  {
   "cell_type": "code",
   "execution_count": 3,
   "metadata": {
    "colab": {
     "autoexec": {
      "startup": false,
      "wait_interval": 0
     },
     "output_extras": [
      {},
      {},
      {},
      {},
      {},
      {},
      {},
      {},
      {},
      {},
      {},
      {},
      {},
      {},
      {},
      {},
      {},
      {},
      {},
      {}
     ]
    },
    "colab_type": "code",
    "id": "qBT_cOQqATWQ",
    "outputId": "9f1fc1d3-d441-4665-ea60-48c7d3fa234b"
   },
   "outputs": [
    {
     "name": "stdout",
     "output_type": "stream",
     "text": [
      "7370 7\n",
      "Category 7: snail\n"
     ]
    },
    {
     "data": {
      "image/png": "[encoded data removed]",
      "text/plain": [
       "<matplotlib.figure.Figure at 0x1145f6b10>"
      ]
     },
     "metadata": {},
     "output_type": "display_data"
    },
    {
     "name": "stdout",
     "output_type": "stream",
     "text": [
      "9309 9\n",
      "Category 9: zebra\n"
     ]
    },
    {
     "data": {
      "image/png": "[encoded data removed]",
      "text/plain": [
       "<matplotlib.figure.Figure at 0x11486bb50>"
      ]
     },
     "metadata": {},
     "output_type": "display_data"
    },
    {
     "name": "stdout",
     "output_type": "stream",
     "text": [
      "1992 1\n",
      "Category 1: horse\n"
     ]
    },
    {
     "data": {
      "image/png": "[encoded data removed]",
      "text/plain": [
       "<matplotlib.figure.Figure at 0x1148408d0>"
      ]
     },
     "metadata": {},
     "output_type": "display_data"
    },
    {
     "name": "stdout",
     "output_type": "stream",
     "text": [
      "6891 6\n",
      "Category 6: rhinoceros\n"
     ]
    },
    {
     "data": {
      "image/png": "[encoded data removed]",
      "text/plain": [
       "<matplotlib.figure.Figure at 0x114d57210>"
      ]
     },
     "metadata": {},
     "output_type": "display_data"
    },
    {
     "name": "stdout",
     "output_type": "stream",
     "text": [
      "6515 6\n",
      "Category 6: rhinoceros\n"
     ]
    },
    {
     "data": {
      "image/png": "[encoded data removed]",
      "text/plain": [
       "<matplotlib.figure.Figure at 0x114aff190>"
      ]
     },
     "metadata": {},
     "output_type": "display_data"
    },
    {
     "name": "stdout",
     "output_type": "stream",
     "text": [
      "7438 7\n",
      "Category 7: snail\n"
     ]
    },
    {
     "data": {
      "image/png": "[encoded data removed]",
      "text/plain": [
       "<matplotlib.figure.Figure at 0x114d10b10>"
      ]
     },
     "metadata": {},
     "output_type": "display_data"
    },
    {
     "name": "stdout",
     "output_type": "stream",
     "text": [
      "1671 1\n",
      "Category 1: horse\n"
     ]
    },
    {
     "data": {
      "image/png": "[encoded data removed]",
      "text/plain": [
       "<matplotlib.figure.Figure at 0x1146d8890>"
      ]
     },
     "metadata": {},
     "output_type": "display_data"
    },
    {
     "name": "stdout",
     "output_type": "stream",
     "text": [
      "1077 1\n",
      "Category 1: horse\n"
     ]
    },
    {
     "data": {
      "image/png": "[encoded data removed]",
      "text/plain": [
       "<matplotlib.figure.Figure at 0x114f6f390>"
      ]
     },
     "metadata": {},
     "output_type": "display_data"
    },
    {
     "name": "stdout",
     "output_type": "stream",
     "text": [
      "6611 6\n",
      "Category 6: rhinoceros\n"
     ]
    },
    {
     "data": {
      "image/png": "[encoded data removed]",
      "text/plain": [
       "<matplotlib.figure.Figure at 0x1151c8050>"
      ]
     },
     "metadata": {},
     "output_type": "display_data"
    },
    {
     "name": "stdout",
     "output_type": "stream",
     "text": [
      "9171 9\n",
      "Category 9: zebra\n"
     ]
    },
    {
     "data": {
      "image/png": "[encoded data removed]",
      "text/plain": [
       "<matplotlib.figure.Figure at 0x115565050>"
      ]
     },
     "metadata": {},
     "output_type": "display_data"
    }
   ],
   "source": [
    "import matplotlib.pyplot as plt\n",
    "\n",
    "n_samples = 10\n",
    "random_indices = np.random.permutation(data.shape[0])\n",
    "\n",
    "for i in random_indices[:n_samples]:\n",
    "    print(i, labels[i])\n",
    "    print(\"Category {}: {}\".format(labels[i], id2animal[labels[i]]))\n",
    "\n",
    "    # We'll show the image and its pixel value histogram side-by-side.\n",
    "\n",
    "    # To interpret the values as a 28x28 image, we need to reshape\n",
    "    # the numpy array, which is one dimensional.\n",
    "    image = data[i, :]\n",
    "\n",
    "    _, (ax1, ax2) = plt.subplots(1, 2)\n",
    "    ax1.imshow(image.reshape(28, 28), cmap=plt.cm.Greys, interpolation='nearest')\n",
    "    ax2.hist(image, bins=20)\n",
    "    ax1.grid(False)\n",
    "    plt.show()"
   ]
  },
  {
   "cell_type": "code",
   "execution_count": 4,
   "metadata": {
    "colab": {
     "autoexec": {
      "startup": false,
      "wait_interval": 0
     }
    },
    "colab_type": "code",
    "collapsed": true,
    "id": "f6nWk5m_ATWW"
   },
   "outputs": [],
   "source": [
    "if data.dtype == 'uint8':  # avoid doing this twice\n",
    "    data = data.astype(np.float32)\n",
    "    data = (data - (255 / 2.0)) / 255"
   ]
  },
  {
   "cell_type": "markdown",
   "metadata": {
    "colab_type": "text",
    "id": "CTWItjxEATWZ"
   },
   "source": [
    "Our labels are 0,1,2,..,10 right now. We convert to a one-hot representation"
   ]
  },
  {
   "cell_type": "code",
   "execution_count": 5,
   "metadata": {
    "colab": {
     "autoexec": {
      "startup": false,
      "wait_interval": 0
     },
     "output_extras": [
      {}
     ]
    },
    "colab_type": "code",
    "id": "ppNaheD2ATWb",
    "outputId": "8ca82368-ebca-4b36-a055-81ed836fd9db",
    "scrolled": true
   },
   "outputs": [
    {
     "name": "stdout",
     "output_type": "stream",
     "text": [
      "Labels before:\n",
      "[1 9 9 6 9]\n",
      "Labels after:\n",
      "[[ 0.  1.  0.  0.  0.  0.  0.  0.  0.  0.]\n",
      " [ 0.  0.  0.  0.  0.  0.  0.  0.  0.  1.]\n",
      " [ 0.  0.  0.  0.  0.  0.  0.  0.  0.  1.]\n",
      " [ 0.  0.  0.  0.  0.  0.  1.  0.  0.  0.]\n",
      " [ 0.  0.  0.  0.  0.  0.  0.  0.  0.  1.]]\n"
     ]
    }
   ],
   "source": [
    "random_indices = np.random.permutation(labels.shape[0])\n",
    "\n",
    "print(\"Labels before:\")\n",
    "print(labels[random_indices[:5]])\n",
    "\n",
    "def one_hot(labels, n_classes):\n",
    "    n_labels = len(labels)\n",
    "    one_hot_labels = np.zeros((n_labels, n_classes))\n",
    "    one_hot_labels[np.arange(n_labels), labels] = 1\n",
    "    return one_hot_labels\n",
    "\n",
    "labels_one_hot = one_hot(labels, len(zoo))\n",
    "\n",
    "print(\"Labels after:\")\n",
    "print(labels_one_hot[random_indices[:5]])"
   ]
  },
  {
   "cell_type": "markdown",
   "metadata": {
    "colab_type": "text",
    "id": "PLlPgGESATWf"
   },
   "source": [
    "Finally, let's split the data into random train and test partitions"
   ]
  },
  {
   "cell_type": "code",
   "execution_count": 6,
   "metadata": {
    "colab": {
     "autoexec": {
      "startup": false,
      "wait_interval": 0
     },
     "output_extras": [
      {}
     ]
    },
    "colab_type": "code",
    "id": "-eJjdKcMATWg",
    "outputId": "d212efe4-0d16-48b3-f5fe-043b3bd33a1f"
   },
   "outputs": [
    {
     "name": "stdout",
     "output_type": "stream",
     "text": [
      "Data shapes:  (1000, 784) (1000, 10) (9000, 784) (9000, 10)\n"
     ]
    }
   ],
   "source": [
    "n_test_examples = 1000\n",
    "\n",
    "random_indices = np.random.permutation(data.shape[0])\n",
    "test_data = data[random_indices[:n_test_examples],:]\n",
    "test_labels = labels_one_hot[random_indices[:n_test_examples],:]\n",
    "train_data = data[random_indices[n_test_examples:],:]\n",
    "train_labels = labels_one_hot[random_indices[n_test_examples:],:]\n",
    "print(\"Data shapes: \", test_data.shape, test_labels.shape, train_data.shape, train_labels.shape)"
   ]
  },
  {
   "cell_type": "markdown",
   "metadata": {
    "colab_type": "text",
    "id": "5gBBdknfATWl"
   },
   "source": [
    "Save data for other experiments"
   ]
  },
  {
   "cell_type": "code",
   "execution_count": 7,
   "metadata": {
    "colab": {
     "autoexec": {
      "startup": false,
      "wait_interval": 0
     },
     "output_extras": [
      {}
     ]
    },
    "colab_type": "code",
    "id": "zH4MNOzMATWn",
    "outputId": "63f3b23f-5aa7-46c0-846f-11c5cb6eff72"
   },
   "outputs": [
    {
     "name": "stdout",
     "output_type": "stream",
     "text": [
      "Saved train/test data to data/zoo.npz\n"
     ]
    }
   ],
   "source": [
    "outfile_name = os.path.join(DATA_DIR, \"zoo.npz\")\n",
    "with open(outfile_name, 'wb') as outfile:\n",
    "    np.savez(outfile, train_data, train_labels, test_data, test_labels)\n",
    "print (\"Saved train/test data to {}\".format(outfile_name))"
   ]
  }
 ],
 "metadata": {
  "colab": {
   "default_view": {},
   "name": "0_Download_Data.ipynb",
   "provenance": [],
   "version": "0.3.2",
   "views": {}
  },
  "kernelspec": {
   "display_name": "Python [conda env:cs224n]",
   "language": "python",
   "name": "conda-env-cs224n-py"
  },
  "language_info": {
   "codemirror_mode": {
    "name": "ipython",
    "version": 2
   },
   "file_extension": ".py",
   "mimetype": "text/x-python",
   "name": "python",
   "nbconvert_exporter": "python",
   "pygments_lexer": "ipython2",
   "version": "2.7.13"
  }
 },
 "nbformat": 4,
 "nbformat_minor": 2
}
